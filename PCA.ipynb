{
  "nbformat": 4,
  "nbformat_minor": 0,
  "metadata": {
    "colab": {
      "name": "PCA.ipynb",
      "provenance": [],
      "collapsed_sections": []
    },
    "kernelspec": {
      "name": "python3",
      "display_name": "Python 3"
    },
    "language_info": {
      "name": "python"
    }
  },
  "cells": [
    {
      "cell_type": "code",
      "metadata": {
        "id": "pDRx8SZkF-iW"
      },
      "source": [
        "from sklearn import datasets\n",
        "import matplotlib.pyplot as plt"
      ],
      "execution_count": 71,
      "outputs": []
    },
    {
      "cell_type": "code",
      "metadata": {
        "id": "L2PH03JDAzBc"
      },
      "source": [
        "class PCA:\n",
        "  def __init__(self, n_components):\n",
        "    self.n_components = n_components\n",
        "    self.eigen_components = None\n",
        "    self.mean = None\n",
        "\n",
        "  def fit(self, X):\n",
        "    self.mean = np.mean(X, axis =0) #column wise\n",
        "    print(\"self.mean\",self.mean)\n",
        "\n",
        "    #mean\n",
        "    X -=self.mean\n",
        "\n",
        "    #covariance\n",
        "    cov= np.cov(X.T)\n",
        "\n",
        "    #eigenvector, eigenvalue\n",
        "    eigen_values, eigen_vector = np.linalg.eig(cov)\n",
        "\n",
        "    eigen_vector = eigen_vector.T #coz we get eigen vector in column matrix\n",
        "\n",
        "    #taking decreasing sorted index of eigen values\n",
        "    index = np.argsort(eigen_values)[::-1]\n",
        "    eigenvalues = eigen_values[index]\n",
        "    eigenvector = eigen_vector[index]\n",
        "\n",
        "    #getting top n eigen components\n",
        "    self.eigen_components = eigenvector[0:self.n_components]\n",
        "\n",
        "  def transform(self, X):\n",
        "    X -= self.mean\n",
        "    return np.dot(X, self.eigen_components.T)\n",
        "\n"
      ],
      "execution_count": 72,
      "outputs": []
    },
    {
      "cell_type": "code",
      "metadata": {
        "id": "T1dCgdzmDGCX"
      },
      "source": [
        "dataset = datasets.load_iris()"
      ],
      "execution_count": 73,
      "outputs": []
    },
    {
      "cell_type": "code",
      "metadata": {
        "id": "_r6SQEnbDKmk"
      },
      "source": [
        "X = dataset.data\n",
        "Y = dataset.target"
      ],
      "execution_count": 74,
      "outputs": []
    },
    {
      "cell_type": "code",
      "metadata": {
        "colab": {
          "base_uri": "https://localhost:8080/"
        },
        "id": "8lPA8wrzGMm3",
        "outputId": "d2e0117b-6bfc-4a79-daba-32737007d5cd"
      },
      "source": [
        "X.shape"
      ],
      "execution_count": 75,
      "outputs": [
        {
          "output_type": "execute_result",
          "data": {
            "text/plain": [
              "(150, 4)"
            ]
          },
          "metadata": {},
          "execution_count": 75
        }
      ]
    },
    {
      "cell_type": "markdown",
      "metadata": {
        "id": "g7eRLDf8HRMh"
      },
      "source": [
        "# change this 4 dimensional data to 2 dimension"
      ]
    },
    {
      "cell_type": "code",
      "metadata": {
        "colab": {
          "base_uri": "https://localhost:8080/"
        },
        "id": "AEhGYCNJHGf1",
        "outputId": "ab2d78f8-c966-4ee6-de53-3e888ef033e0"
      },
      "source": [
        "pca = PCA(2)\n",
        "pca.fit(X)\n",
        "result = pca.transform(X)"
      ],
      "execution_count": 76,
      "outputs": [
        {
          "output_type": "stream",
          "name": "stdout",
          "text": [
            "self.mean [5.84333333 3.05733333 3.758      1.19933333]\n"
          ]
        }
      ]
    },
    {
      "cell_type": "code",
      "metadata": {
        "colab": {
          "base_uri": "https://localhost:8080/",
          "height": 282
        },
        "id": "8iuwwKXEHIxK",
        "outputId": "c4e996a7-028c-4f87-9b16-736652080519"
      },
      "source": [
        "plt.scatter(result[:,0],result[:,1], c=Y)\n"
      ],
      "execution_count": 81,
      "outputs": [
        {
          "output_type": "execute_result",
          "data": {
            "text/plain": [
              "<matplotlib.collections.PathCollection at 0x7f36f3f52510>"
            ]
          },
          "metadata": {},
          "execution_count": 81
        },
        {
          "output_type": "display_data",
          "data": {
            "image/png": "[encoded data removed]",
            "text/plain": [
              "<Figure size 432x288 with 1 Axes>"
            ]
          },
          "metadata": {
            "needs_background": "light"
          }
        }
      ]
    },
    {
      "cell_type": "code",
      "metadata": {
        "id": "rl0ZKpFMHqz0"
      },
      "source": [
        ""
      ],
      "execution_count": null,
      "outputs": []
    }
  ]
}