{
  "nbformat": 4,
  "nbformat_minor": 0,
  "metadata": {
    "colab": {
      "name": "PCA.ipynb",
      "provenance": [],
      "collapsed_sections": []
    },
    "kernelspec": {
      "name": "python3",
      "display_name": "Python 3"
    },
    "language_info": {
      "name": "python"
    }
  },
  "cells": [
    {
      "cell_type": "code",
      "metadata": {
        "id": "a3wU3-jxWlQn"
      },
      "source": [
        "PCA\n",
        "-> Is a widely used dimension reduction technique which reduces the dimension of our data.\n",
        "-> It's the coordinate system based in terms of direction that captures the max variation in our data.\n",
        "-> Finding the dominant combination of features that describe our data.\n",
        "-> After PCA transformation, the features are linearly independent.\n",
        "\n",
        "Algorithm:\n",
        "1. Suppose we have n rows, where each rows shows contains measurements of single experiment \n",
        "2. Subtract the mean from each row, so center of distribution is at origin\n",
        "3. Find the covariance of this mean centered data\n",
        "4. Get eigenvectors and eigenvalues of the covariance matrix\n",
        "5. Now, to find the Principal Component, subtract the data, we want to transform, from the mean and multiply with the eigenvectors.\n",
        "6. Therefore, we decomposed the matrix into the direction of maximum variance where eigenvalues gives us amount of variance of the dataset \n",
        "7. If we want to see how much variance is being captured in the first r nodes  then divide the sum of variance captured by r nodes to the sum of variance given by all eigenvalues\n",
        "8. So we can say principal components which can explain (95%, 96%, 99%) variance in the data."
      ],
      "execution_count": null,
      "outputs": []
    },
    {
      "cell_type": "code",
      "metadata": {
        "id": "pDRx8SZkF-iW"
      },
      "source": [
        "from sklearn import datasets\n",
        "import matplotlib.pyplot as plt\n",
        "import numpy as np"
      ],
      "execution_count": 158,
      "outputs": []
    },
    {
      "cell_type": "code",
      "metadata": {
        "id": "L2PH03JDAzBc"
      },
      "source": [
        "class PCA:\n",
        "  def __init__(self, n_components):\n",
        "    self.n_components = n_components\n",
        "    self.eigen_components = None\n",
        "    self.mean = None\n",
        "    self.variance_captured = {}\n",
        "\n",
        "  def fit(self, X):\n",
        "    self.mean = np.mean(X, axis =0) #column wise\n",
        "\n",
        "    #mean\n",
        "    X = X - self.mean\n",
        "\n",
        "    #covariance\n",
        "    cov= np.cov( X.T)\n",
        "\n",
        "    #eigenvector, eigenvalue\n",
        "    eigen_values, eigen_vector = np.linalg.eig(cov)\n",
        "\n",
        "    eigen_vector = eigen_vector.T #coz we get eigen vector in column matrix\n",
        "\n",
        "    #sorting to get the componenet which gives the variance in decreasing order\n",
        "    index = np.argsort(eigen_values)[::-1]\n",
        "    eigenvalues = eigen_values[index]\n",
        "    eigenvector = eigen_vector[index]\n",
        "\n",
        "    #getting the variance captures by our number of eigen value components\n",
        "    self.variance_captured = {}\n",
        "    for i in range(len(eigenvalues)):\n",
        "      self.variance_captured[i] = np.sum(eigenvalues[:i])/np.sum(eigenvalues)\n",
        "\n",
        "    #getting top n eigen components\n",
        "    self.eigen_components = eigenvector[0:self.n_components] \n",
        "\n",
        "\n",
        "  def transform(self, X):\n",
        "    X = X - self.mean\n",
        "    pca_values = np.dot(X, self.eigen_components.T)\n",
        "    return (pca_values, self.variance_captured[self.n_components])\n",
        "\n"
      ],
      "execution_count": 159,
      "outputs": []
    },
    {
      "cell_type": "code",
      "metadata": {
        "id": "T1dCgdzmDGCX"
      },
      "source": [
        "dataset = datasets.load_iris()\n",
        "X = dataset.data\n",
        "Y = dataset.target"
      ],
      "execution_count": 160,
      "outputs": []
    },
    {
      "cell_type": "markdown",
      "metadata": {
        "id": "g7eRLDf8HRMh"
      },
      "source": [
        "# change this 4 dimensional data to 2 dimension"
      ]
    },
    {
      "cell_type": "code",
      "metadata": {
        "colab": {
          "base_uri": "https://localhost:8080/"
        },
        "id": "AEhGYCNJHGf1",
        "outputId": "539c32f9-0cba-432b-a10f-720aa837e50d"
      },
      "source": [
        "n_components = 2\n",
        "pca = PCA(n_components)\n",
        "pca.fit(X)\n",
        "\n",
        "pca_values, variance_captured = pca.transform(X)\n",
        "\n",
        "print('Pca captured {} dimension from {} by {} components with variance {}'.format(pca_values.shape, X.shape, n_components, variance_captured ))"
      ],
      "execution_count": 161,
      "outputs": [
        {
          "output_type": "stream",
          "name": "stdout",
          "text": [
            "Pca captured (150, 2) dimension from (150, 4) by 2 components with variance 0.9776852063187947\n"
          ]
        }
      ]
    },
    {
      "cell_type": "code",
      "metadata": {
        "colab": {
          "base_uri": "https://localhost:8080/",
          "height": 282
        },
        "id": "8iuwwKXEHIxK",
        "outputId": "b6d43c8b-25d9-41c1-fa81-a057b76aecc2"
      },
      "source": [
        "plt.scatter(pca_values[:,0],pca_values[:,1], c=Y)\n"
      ],
      "execution_count": 162,
      "outputs": [
        {
          "output_type": "execute_result",
          "data": {
            "text/plain": [
              "<matplotlib.collections.PathCollection at 0x7f26f1027450>"
            ]
          },
          "metadata": {},
          "execution_count": 162
        },
        {
          "output_type": "display_data",
          "data": {
            "image/png": "[encoded data removed]",
            "text/plain": [
              "<Figure size 432x288 with 1 Axes>"
            ]
          },
          "metadata": {
            "needs_background": "light"
          }
        }
      ]
    }
  ]
}