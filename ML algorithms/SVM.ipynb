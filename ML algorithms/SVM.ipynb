{
  "nbformat": 4,
  "nbformat_minor": 0,
  "metadata": {
    "colab": {
      "name": "SVM.ipynb",
      "provenance": [],
      "collapsed_sections": []
    },
    "kernelspec": {
      "name": "python3",
      "display_name": "Python 3"
    },
    "language_info": {
      "name": "python"
    }
  },
  "cells": [
    {
      "cell_type": "code",
      "metadata": {
        "id": "9xjRwedt0ZRn"
      },
      "source": [
        "import numpy as np"
      ],
      "execution_count": 10,
      "outputs": []
    },
    {
      "cell_type": "code",
      "metadata": {
        "id": "KPKG_D-VvwTW"
      },
      "source": [
        "class SVM:\n",
        "  def __init__(self, learning_rate = 0.001, lambda_parameter = 0.01, n_iters=1000):\n",
        "    self.lr = learning_rate\n",
        "    self.lambda_parameter = lambda_parameter\n",
        "    self.n_iters = n_iters\n",
        "    self.weights = 0\n",
        "    self.bias = 0\n",
        "\n",
        "  def fit(self, X_train, y_train):\n",
        "    #change y values\n",
        "    y = np.where(y_train<=0, -1, 1)\n",
        "\n",
        "    #get features from shape\n",
        "    n_sample, n_features = X_train.shape\n",
        "\n",
        "    #make weights, bias arrays\n",
        "    self.weights = np.zeros(n_features)\n",
        "    self.bias = 0\n",
        "\n",
        "    # for loop for iteration\n",
        "    for i in range(self.n_iters):\n",
        "      for idx, x_i in enumerate(X):\n",
        "        linear_equation = np.dot(x_i, self.weights) - self.bias\n",
        "        condition = y[idx] * linear_equation\n",
        "        if condition >= 1: # y and value of function in same class\n",
        "          dw = 2 * self.lambda_parameter * self.weights\n",
        "          self.weights -= self.lr * dw\n",
        "          self.bias = 0\n",
        "        else:\n",
        "          dw = 2 * self.lambda_parameter * self.weights - y[idx] * x_i\n",
        "          db = y[idx]\n",
        "          self.weights -= self.lr * dw\n",
        "          self.bias -= y[idx]\n",
        "\n",
        "  def predict(self, X_test):\n",
        "    return np.sign(np.dot(X_test, self.weight) - self.bias)"
      ],
      "execution_count": 37,
      "outputs": []
    },
    {
      "cell_type": "code",
      "metadata": {
        "colab": {
          "base_uri": "https://localhost:8080/",
          "height": 303
        },
        "id": "U84SrsZzzfVK",
        "outputId": "b43c5999-26fd-43fc-8e8a-11d01db87d0e"
      },
      "source": [
        "# Imports\n",
        "from sklearn import datasets\n",
        "import matplotlib.pyplot as plt\n",
        "\n",
        "X, y = datasets.make_blobs(\n",
        "    n_samples=50, n_features=2, centers=2, cluster_std=1.05, random_state=40\n",
        ")\n",
        "y = np.where(y == 0, -1, 1)\n",
        "\n",
        "clf = SVM()\n",
        "clf.fit(X, y)\n",
        "# predictions = clf.predict(X)\n",
        "\n",
        "print(clf.weights, clf.bias)\n",
        "\n",
        "\n",
        "def get_hyperplane_value(x, w, b, offset):\n",
        "    return (-w[0] * x + b + offset) / w[1]\n",
        "\n",
        "fig = plt.figure()\n",
        "ax = fig.add_subplot(1, 1, 1)\n",
        "plt.scatter(X[:, 0], X[:, 1], marker=\"o\", c=y)\n",
        "\n",
        "x0_1 = np.amin(X[:, 0])\n",
        "x0_2 = np.amax(X[:, 0])\n",
        "\n",
        "x1_1 = get_hyperplane_value(x0_1, clf.weights, clf.bias, 0)\n",
        "x1_2 = get_hyperplane_value(x0_2, clf.weights, clf.bias, 0)\n",
        "\n",
        "x1_1_m = get_hyperplane_value(x0_1, clf.weights, clf.bias, -1)\n",
        "x1_2_m = get_hyperplane_value(x0_2, clf.weights, clf.bias, -1)\n",
        "\n",
        "x1_1_p = get_hyperplane_value(x0_1, clf.weights, clf.bias, 1)\n",
        "x1_2_p = get_hyperplane_value(x0_2, clf.weights, clf.bias, 1)\n",
        "\n",
        "ax.plot([x0_1, x0_2], [x1_1, x1_2], \"y--\")\n",
        "ax.plot([x0_1, x0_2], [x1_1_m, x1_2_m], \"k\")\n",
        "ax.plot([x0_1, x0_2], [x1_1_p, x1_2_p], \"k\")\n",
        "\n",
        "x1_min = np.amin(X[:, 1])\n",
        "x1_max = np.amax(X[:, 1])\n",
        "ax.set_ylim([x1_min - 3, x1_max + 3])\n",
        "\n",
        "plt.show()\n",
        "\n",
        "        "
      ],
      "execution_count": 39,
      "outputs": [
        {
          "output_type": "stream",
          "name": "stdout",
          "text": [
            "[0.61620019 0.1613202 ] 0\n"
          ]
        },
        {
          "output_type": "display_data",
          "data": {
            "image/png": "[encoded data removed]",
            "text/plain": [
              "<Figure size 432x288 with 1 Axes>"
            ]
          },
          "metadata": {
            "needs_background": "light"
          }
        }
      ]
    },
    {
      "cell_type": "code",
      "metadata": {
        "id": "UAT4cEnR0a2J"
      },
      "source": [
        ""
      ],
      "execution_count": null,
      "outputs": []
    }
  ]
}