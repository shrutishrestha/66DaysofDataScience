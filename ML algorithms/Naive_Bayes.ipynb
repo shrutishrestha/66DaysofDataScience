{
  "nbformat": 4,
  "nbformat_minor": 0,
  "metadata": {
    "colab": {
      "name": "Naive Bayes.ipynb",
      "provenance": [],
      "collapsed_sections": []
    },
    "kernelspec": {
      "name": "python3",
      "display_name": "Python 3"
    },
    "language_info": {
      "name": "python"
    }
  },
  "cells": [
    {
      "cell_type": "code",
      "metadata": {
        "id": "2iDwbMXrZxRL"
      },
      "source": [
        "import numpy as np\n",
        "import math"
      ],
      "execution_count": 197,
      "outputs": []
    },
    {
      "cell_type": "code",
      "metadata": {
        "id": "0tf8SXJkXeas"
      },
      "source": [
        "class NaiveBayes:\n",
        "  def __init__(self, ):\n",
        "    self.classes = 0\n",
        "\n",
        "  \n",
        "  def fit(self,X_train, y_train):\n",
        "    n_sample, n_features = X_train.shape\n",
        "    self.classes = np.unique(y_train)\n",
        "    n_classes = len(self.classes)\n",
        "\n",
        "    self.mean = np.zeros((n_classes, n_features), dtype = np.float64) #initializing the mean ndarray\n",
        "    self.var = np.zeros((n_classes, n_features), dtype = np.float64) #initializing the variance ndarray\n",
        "    self.prior = np.zeros(n_classes, dtype = np.float64) #initializing the prior ndarray \n",
        "\n",
        "    for c in self.classes:\n",
        "      X_train_c = X_train[c == y_train]\n",
        "      self.mean[c, :] = X_train_c.mean(axis = 0)\n",
        "      self.var[c, :] = X_train_c.mean(axis = 0)\n",
        "      self.prior[c] = X_train_c.shape[0]/ n_sample\n",
        "\n",
        "  def predict(self, X_test):\n",
        "    y_predict = [self._predict(x) for x in X_test]\n",
        "    return y_predict\n",
        "\n",
        "  def _predict(self, x):\n",
        "    posterior_list = []\n",
        "    for c in self.classes:\n",
        "\n",
        "      #prior\n",
        "      prior_of_class = np.log(self.prior[c])\n",
        "\n",
        "      #class probability\n",
        "      mean_of_class = self.mean[c]\n",
        "      var_of_class = self.var[c]\n",
        "      num = np.exp(-(x-mean_of_class)**2) / 2*var_of_class\n",
        "      deno  = np.sqrt(2*math.pi*var_of_class)\n",
        "      pdf = num/deno\n",
        "      class_prob = np.sum(np.log(pdf))\n",
        "\n",
        "      #posterior probability\n",
        "      posterior = prior_of_class + class_prob\n",
        "      posterior_list.append(posterior)\n",
        "\n",
        "    return self.classes[np.argmax(posterior_list)]\n",
        "\n",
        "def accuracy(y_true, y_pred):\n",
        "  return np.sum([y_true==y_pred])/len(y_true)"
      ],
      "execution_count": 198,
      "outputs": []
    },
    {
      "cell_type": "code",
      "metadata": {
        "colab": {
          "base_uri": "https://localhost:8080/"
        },
        "id": "n6SNw4K_ZpEQ",
        "outputId": "bcabf1b8-9245-4fcb-92c7-44f591ec331f"
      },
      "source": [
        "from sklearn import datasets\n",
        "from sklearn.model_selection import train_test_split\n",
        "X,y = datasets.make_classification(n_samples=1000, n_features=5, n_classes=2, random_state=42)\n",
        "X_train, X_test, y_train, y_test = train_test_split(X,y)\n",
        "\n",
        "nb = NaiveBayes()\n",
        "nb.fit(X_train, y_train)\n",
        "y_pred = nb.predict(X_test)\n",
        "accuracy(y_test, y_pred)"
      ],
      "execution_count": 199,
      "outputs": [
        {
          "output_type": "stream",
          "name": "stderr",
          "text": [
            "/usr/local/lib/python3.7/dist-packages/ipykernel_launcher.py:36: RuntimeWarning: invalid value encountered in sqrt\n"
          ]
        },
        {
          "output_type": "execute_result",
          "data": {
            "text/plain": [
              "0.516"
            ]
          },
          "metadata": {},
          "execution_count": 199
        }
      ]
    },
    {
      "cell_type": "code",
      "metadata": {
        "id": "KsdhQsSlpCyx"
      },
      "source": [
        "from sklearn.naive_bayes import GaussianNB\n",
        "from sklearn.metrics import accuracy_score"
      ],
      "execution_count": 200,
      "outputs": []
    },
    {
      "cell_type": "code",
      "metadata": {
        "colab": {
          "base_uri": "https://localhost:8080/"
        },
        "id": "NJXy-FS5avAq",
        "outputId": "aeed14d7-98bc-4147-d339-05c8d94c0af4"
      },
      "source": [
        "gnb = GaussianNB()\n",
        "gnb.fit(X_train, y_train)\n",
        "gnb.predict(X_test)\n",
        "accuracy_score(y_test, y_pred)"
      ],
      "execution_count": 201,
      "outputs": [
        {
          "output_type": "execute_result",
          "data": {
            "text/plain": [
              "0.516"
            ]
          },
          "metadata": {},
          "execution_count": 201
        }
      ]
    }
  ]
}