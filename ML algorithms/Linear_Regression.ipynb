{
  "nbformat": 4,
  "nbformat_minor": 0,
  "metadata": {
    "colab": {
      "name": "Linear Regression.ipynb",
      "provenance": [],
      "collapsed_sections": []
    },
    "kernelspec": {
      "name": "python3",
      "display_name": "Python 3"
    },
    "language_info": {
      "name": "python"
    },
    "accelerator": "GPU"
  },
  "cells": [
    {
      "cell_type": "code",
      "metadata": {
        "id": "uYxFo7Ay-LPC"
      },
      "source": [
        "import numpy as np\n",
        "from sklearn.model_selection import train_test_split \n",
        "import matplotlib.pyplot as plt\n",
        "from sklearn import datasets\n",
        "import numpy as np"
      ],
      "execution_count": 9,
      "outputs": []
    },
    {
      "cell_type": "markdown",
      "metadata": {
        "id": "kB4dDhAbMA3N"
      },
      "source": [
        "Importing diabetes dataset from sklearn"
      ]
    },
    {
      "cell_type": "code",
      "metadata": {
        "id": "wftFural-W7o"
      },
      "source": [
        "diabetes_X, diabetes_y = datasets.load_diabetes(return_X_y = True)\n",
        "diabetes_X = diabetes_X[:, np.newaxis, 2]\n",
        "diabetes_X_train = diabetes_X[:-20]\n",
        "diabetes_X_test = diabetes_X[-20:]\n",
        "diabetes_y_train = diabetes_y[:-20]\n",
        "diabetes_y_test = diabetes_y[-20:]"
      ],
      "execution_count": 10,
      "outputs": []
    },
    {
      "cell_type": "markdown",
      "metadata": {
        "id": "sDma9fZBCyUO"
      },
      "source": [
        "Data Visualization"
      ]
    },
    {
      "cell_type": "code",
      "metadata": {
        "colab": {
          "base_uri": "https://localhost:8080/",
          "height": 303
        },
        "id": "faIYEQ5qBn-x",
        "outputId": "2f70c670-eafa-47a7-92d8-4cb2b21ffea9"
      },
      "source": [
        "plt.scatter(diabetes_X_train, diabetes_y_train)"
      ],
      "execution_count": 40,
      "outputs": [
        {
          "output_type": "execute_result",
          "data": {
            "text/plain": [
              "<matplotlib.collections.PathCollection at 0x7f2009db5690>"
            ]
          },
          "metadata": {},
          "execution_count": 40
        },
        {
          "output_type": "display_data",
          "data": {
            "image/png": "[encoded data removed]",
            "text/plain": [
              "<Figure size 432x288 with 1 Axes>"
            ]
          },
          "metadata": {
            "needs_background": "light"
          }
        }
      ]
    },
    {
      "cell_type": "markdown",
      "metadata": {
        "id": "VfEd1gkhzlrt"
      },
      "source": [
        "Linear Regression handcoding"
      ]
    },
    {
      "cell_type": "code",
      "metadata": {
        "id": "0DmLcto2-1gW"
      },
      "source": [
        "class Linear_Regression:\n",
        "  def __init__(self, lr = 0.001, iteration = 10):\n",
        "    self.lr = lr\n",
        "    self.iteration = iteration\n",
        "    self.weights = None\n",
        "    self.bias = None\n",
        "\n",
        "  def fit(self, X_train, Y_train):\n",
        "    samples, features = X_train.shape\n",
        "    self.weights = np.zeros(features)\n",
        "    self.bias = 0 \n",
        "    for iters in range(self.iteration):\n",
        "      y_pred = np.dot(X_train, self.weights)  + self.bias\n",
        "      dweights = (1/samples) * np.dot(X_train.T, [np.expand_dims(y_pred,axis = 1) - np.expand_dims(Y_train,axis = 1)])\n",
        "      dbias = (1/samples) * np.sum(y_pred - Y_train)\n",
        "\n",
        "      self.weights = self.weights - self.lr * dweights\n",
        "      self.bias = self.bias - self.lr * dbias\n",
        "\n",
        "  def predict(self, X_test):\n",
        "      return np.dot(X_test, self.weights)  + self.bias\n",
        "\n",
        "def mse(y_true, y_pred):\n",
        "  return np.mean((y_true-y_pred)**2)\n",
        "\n",
        "regressor = Linear_Regression()\n",
        "regressor.fit(diabetes_X_train, diabetes_y_train)\n",
        "predicted = regressor.predict(diabetes_X_test)\n",
        "\n",
        "mse_value = mse(diabetes_y_test, predicted)\n"
      ],
      "execution_count": 4,
      "outputs": []
    },
    {
      "cell_type": "markdown",
      "metadata": {
        "id": "hrUshtIbsdzU"
      },
      "source": [
        "Using Sklearn Library\n"
      ]
    },
    {
      "cell_type": "code",
      "metadata": {
        "id": "ItSEkSd6sdDm"
      },
      "source": [
        "import numpy as np\n",
        "from sklearn.linear_model import LinearRegression\n",
        "from sklearn.metrics import mean_squared_error"
      ],
      "execution_count": 14,
      "outputs": []
    },
    {
      "cell_type": "code",
      "metadata": {
        "colab": {
          "base_uri": "https://localhost:8080/"
        },
        "id": "39B5gLWOwtJG",
        "outputId": "141dc61e-254e-492b-e52a-b0be46e52424"
      },
      "source": [
        "regr = LinearRegression()\n",
        "regr.fit(diabetes_X_train, diabetes_y_train)\n",
        "predicted = regr.predict(diabetes_X_test)\n",
        "mean_squared_error(diabetes_y_test, predicted)"
      ],
      "execution_count": 17,
      "outputs": [
        {
          "output_type": "stream",
          "name": "stdout",
          "text": [
            "[233.  91. 111. 152. 120.  67. 310.  94. 183.  66. 173.  72.  49.  64.\n",
            "  48. 178. 104. 132. 220.  57.]\n"
          ]
        },
        {
          "output_type": "execute_result",
          "data": {
            "text/plain": [
              "2548.0723987259694"
            ]
          },
          "metadata": {},
          "execution_count": 17
        }
      ]
    },
    {
      "cell_type": "markdown",
      "metadata": {
        "id": "RnUbSbpV0GIy"
      },
      "source": [
        "Corfficients of linear regression\n"
      ]
    },
    {
      "cell_type": "code",
      "metadata": {
        "colab": {
          "base_uri": "https://localhost:8080/"
        },
        "id": "aFbg7JZR0FGj",
        "outputId": "5ae989f5-bc02-4c83-f790-b96726a3299f"
      },
      "source": [
        "print(\"regr.coef_\",regr.coef_)\n",
        "print(\"intercept\", regr.intercept_)\n",
        "print(\"rank\",regr.rank_)\n",
        "print(\"n_features_in_int\", regr.n_features_in_)\n",
        "print(\"singular_\",regr.singular_)"
      ],
      "execution_count": 36,
      "outputs": [
        {
          "output_type": "stream",
          "name": "stdout",
          "text": [
            "regr.coef_ [938.23786125]\n",
            "intercept 152.91886182616167\n",
            "rank 1\n",
            "n_features_in_int 1\n",
            "singular_ [0.97759081]\n"
          ]
        }
      ]
    },
    {
      "cell_type": "markdown",
      "metadata": {
        "id": "Zv-tw8m_yl0y"
      },
      "source": [
        "plotting"
      ]
    },
    {
      "cell_type": "code",
      "metadata": {
        "colab": {
          "base_uri": "https://localhost:8080/",
          "height": 303
        },
        "id": "eyFjjz96ybau",
        "outputId": "634717bc-bfcb-44c7-9b5a-296844860d5c"
      },
      "source": [
        "plt.scatter(diabetes_X_test, diabetes_y_test, color=\"blue\")\n",
        "plt.plot(diabetes_X_test, predicted, color = \"red\")"
      ],
      "execution_count": 41,
      "outputs": [
        {
          "output_type": "execute_result",
          "data": {
            "text/plain": [
              "[<matplotlib.lines.Line2D at 0x7f2009da4f90>]"
            ]
          },
          "metadata": {},
          "execution_count": 41
        },
        {
          "output_type": "display_data",
          "data": {
            "image/png": "[encoded data removed]",
            "text/plain": [
              "<Figure size 432x288 with 1 Axes>"
            ]
          },
          "metadata": {
            "needs_background": "light"
          }
        }
      ]
    },
    {
      "cell_type": "code",
      "metadata": {
        "id": "6CiCE2uDN1pA"
      },
      "source": [
        ""
      ],
      "execution_count": null,
      "outputs": []
    }
  ]
}