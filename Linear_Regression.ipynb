{
  "nbformat": 4,
  "nbformat_minor": 0,
  "metadata": {
    "colab": {
      "name": "Linear Regression.ipynb",
      "provenance": [],
      "collapsed_sections": []
    },
    "kernelspec": {
      "name": "python3",
      "display_name": "Python 3"
    },
    "language_info": {
      "name": "python"
    },
    "accelerator": "GPU"
  },
  "cells": [
    {
      "cell_type": "code",
      "metadata": {
        "id": "uYxFo7Ay-LPC"
      },
      "source": [
        "import numpy as np\n",
        "from sklearn.model_selection import train_test_split \n",
        "import matplotlib.pyplot as plt\n",
        "from sklearn import datasets\n",
        "import numpy as np"
      ],
      "execution_count": 1,
      "outputs": []
    },
    {
      "cell_type": "code",
      "metadata": {
        "colab": {
          "base_uri": "https://localhost:8080/"
        },
        "id": "wftFural-W7o",
        "outputId": "b3025fc4-5492-48ae-f18f-87309a7274da"
      },
      "source": [
        "X, y = datasets.make_regression(n_samples = 100, noise = 30, n_features = 1, )\n",
        "X_train, X_test, Y_train, Y_test = train_test_split(X, y)"
      ],
      "execution_count": 2,
      "outputs": [
        {
          "output_type": "stream",
          "name": "stdout",
          "text": [
            "75 25 75 25\n"
          ]
        }
      ]
    },
    {
      "cell_type": "code",
      "metadata": {
        "colab": {
          "base_uri": "https://localhost:8080/",
          "height": 303
        },
        "id": "faIYEQ5qBn-x",
        "outputId": "7c15cf4c-d428-4a94-a81f-8b5235aa7bb8"
      },
      "source": [
        "plt.scatter(X_train, Y_train)"
      ],
      "execution_count": 3,
      "outputs": [
        {
          "output_type": "execute_result",
          "data": {
            "text/plain": [
              "<matplotlib.collections.PathCollection at 0x7f03b86f9350>"
            ]
          },
          "metadata": {},
          "execution_count": 3
        },
        {
          "output_type": "display_data",
          "data": {
            "image/png": "[encoded data removed]",
            "text/plain": [
              "<Figure size 432x288 with 1 Axes>"
            ]
          },
          "metadata": {
            "needs_background": "light"
          }
        }
      ]
    },
    {
      "cell_type": "code",
      "metadata": {
        "id": "0DmLcto2-1gW"
      },
      "source": [
        "class Linear_Regression:\n",
        "  def __init__(self, lr = 0.001, iteration = 10):\n",
        "    self.lr = lr\n",
        "    self.iteration = iteration\n",
        "    self.weights = None\n",
        "    self.bias = None\n",
        "\n",
        "  def fit(self, X_train, Y_train):\n",
        "    samples, features = X_train.shape\n",
        "    self.weights = np.zeros(features)\n",
        "    self.bias = 0 \n",
        "    for iters in range(self.iteration):\n",
        "      y_pred = np.dot(X_train, self.weights)  + self.bias\n",
        "      dweights = (1/samples) * np.dot(X_train.T, [np.expand_dims(y_pred,axis = 1) - np.expand_dims(Y_train,axis = 1)])\n",
        "      dbias = (1/samples) * np.sum(y_pred - Y_train)\n",
        "\n",
        "      self.weights = self.weights - self.lr * dweights\n",
        "      self.bias = self.bias - self.lr * dbias\n",
        "\n",
        "  def predict(self, X_test):\n",
        "      return np.dot(X_test, self.weights)  + self.bias\n",
        "\n",
        "def mse(y_true, y_pred):\n",
        "  return np.mean((y_true-y_pred)**2)\n",
        "\n",
        "regressor = Linear_Regression()\n",
        "regressor.fit(X_train, Y_train)\n",
        "predicted = regressor.predict(X_test)\n",
        "\n",
        "mse_value = mse(Y_test, predicted)\n"
      ],
      "execution_count": 4,
      "outputs": []
    }
  ]
}